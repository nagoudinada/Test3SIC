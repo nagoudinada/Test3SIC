{
  "nbformat": 4,
  "nbformat_minor": 0,
  "metadata": {
    "kernelspec": {
      "display_name": "Python 3",
      "language": "python",
      "name": "python3"
    },
    "language_info": {
      "codemirror_mode": {
        "name": "ipython",
        "version": 3
      },
      "file_extension": ".py",
      "mimetype": "text/x-python",
      "name": "python",
      "nbconvert_exporter": "python",
      "pygments_lexer": "ipython3",
      "version": "3.7.0"
    },
    "toc": {
      "base_numbering": 1,
      "nav_menu": {},
      "number_sections": true,
      "sideBar": true,
      "skip_h1_title": false,
      "title_cell": "Table of Contents",
      "title_sidebar": "Contents",
      "toc_cell": false,
      "toc_position": {},
      "toc_section_display": true,
      "toc_window_display": false
    },
    "varInspector": {
      "cols": {
        "lenName": 16,
        "lenType": 16,
        "lenVar": 40
      },
      "kernels_config": {
        "python": {
          "delete_cmd_postfix": "",
          "delete_cmd_prefix": "del ",
          "library": "var_list.py",
          "varRefreshCmd": "print(var_dic_list())"
        },
        "r": {
          "delete_cmd_postfix": ") ",
          "delete_cmd_prefix": "rm(",
          "library": "var_list.r",
          "varRefreshCmd": "cat(var_dic_list()) "
        }
      },
      "types_to_exclude": [
        "module",
        "function",
        "builtin_function_or_method",
        "instance",
        "_Feature"
      ],
      "window_display": false
    },
    "colab": {
      "name": "problem_0301.ipynb",
      "provenance": []
    }
  },
  "cells": [
    {
      "cell_type": "markdown",
      "metadata": {
        "id": "joX7rCuq4RXJ"
      },
      "source": [
        "## Quiz #0301"
      ]
    },
    {
      "cell_type": "markdown",
      "metadata": {
        "id": "GXouz3hf4RXL"
      },
      "source": [
        "### \"Sample size\""
      ]
    },
    {
      "cell_type": "code",
      "metadata": {
        "id": "L-53SIIY4RXL"
      },
      "source": [
        "import numpy as np\n",
        "import scipy.stats as st"
      ],
      "execution_count": 13,
      "outputs": []
    },
    {
      "cell_type": "markdown",
      "metadata": {
        "id": "XtrfD8lz4RXN"
      },
      "source": [
        "#### Answer the following questions by providing Python code:"
      ]
    },
    {
      "cell_type": "markdown",
      "metadata": {
        "id": "lqPVS6l34RXN"
      },
      "source": [
        "The female students are known to have mean weight $\\mu=58$kg with  $\\sigma=3$kg. <br>\n",
        "Calculate the *minimum* sample size $n$ in each of the following cases."
      ]
    },
    {
      "cell_type": "code",
      "metadata": {
        "id": "vXaHlW0m4RXN"
      },
      "source": [
        "mu = 58.0\n",
        "sigma = 3.0"
      ],
      "execution_count": 14,
      "outputs": []
    },
    {
      "cell_type": "markdown",
      "metadata": {
        "id": "fKfs0h0R4RXN"
      },
      "source": [
        "1). When we target the standard error is equal to 1kg:"
      ]
    },
    {
      "cell_type": "code",
      "metadata": {
        "colab": {
          "base_uri": "https://localhost:8080/"
        },
        "id": "4jWROeAT4RXN",
        "outputId": "e6190eeb-caff-4cd7-857e-1214576d4d74"
      },
      "source": [
        "std_error = 1\n",
        "n = (sigma**2)/(std_error**2)\n",
        "print(n)"
      ],
      "execution_count": 15,
      "outputs": [
        {
          "output_type": "stream",
          "text": [
            "9.0\n"
          ],
          "name": "stdout"
        }
      ]
    },
    {
      "cell_type": "markdown",
      "metadata": {
        "id": "mZqw-oIf4RXO"
      },
      "source": [
        "2). When we want the margin error $ME$ of the 95% confidence interval to be equal to 2kg: <br>\n",
        "NOTE: Use the Standard Normal distribution."
      ]
    },
    {
      "cell_type": "code",
      "metadata": {
        "colab": {
          "base_uri": "https://localhost:8080/"
        },
        "id": "vdr-hIaw_65B",
        "outputId": "a405af8e-b883-4dba-dbdf-0fa4a78c429e"
      },
      "source": [
        "W = 2\n",
        "n = st.norm.ppf(0.95)*sigma/2\n",
        "print(n)"
      ],
      "execution_count": 20,
      "outputs": [
        {
          "output_type": "stream",
          "text": [
            "2.467280440427208\n"
          ],
          "name": "stdout"
        }
      ]
    },
    {
      "cell_type": "markdown",
      "metadata": {
        "id": "GQtkLtyH4RXO"
      },
      "source": [
        "3). When we want the margin error $ME$ of the 95% confidence interval to be equal to 2kg: <br>\n",
        "NOTE: Use the Student-t distribution. <br>\n",
        "HINT: As the Student-t distribution depends on $n$, it is not as straightforward as in the Stadard Normal case."
      ]
    },
    {
      "cell_type": "code",
      "metadata": {
        "id": "aU_eZAdj4RXO"
      },
      "source": [
        ""
      ],
      "execution_count": 17,
      "outputs": []
    }
  ]
}