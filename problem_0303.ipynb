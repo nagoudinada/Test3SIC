{
  "nbformat": 4,
  "nbformat_minor": 0,
  "metadata": {
    "kernelspec": {
      "display_name": "Python 3",
      "language": "python",
      "name": "python3"
    },
    "language_info": {
      "codemirror_mode": {
        "name": "ipython",
        "version": 3
      },
      "file_extension": ".py",
      "mimetype": "text/x-python",
      "name": "python",
      "nbconvert_exporter": "python",
      "pygments_lexer": "ipython3",
      "version": "3.7.0"
    },
    "toc": {
      "base_numbering": 1,
      "nav_menu": {},
      "number_sections": true,
      "sideBar": true,
      "skip_h1_title": false,
      "title_cell": "Table of Contents",
      "title_sidebar": "Contents",
      "toc_cell": false,
      "toc_position": {},
      "toc_section_display": true,
      "toc_window_display": false
    },
    "varInspector": {
      "cols": {
        "lenName": 16,
        "lenType": 16,
        "lenVar": 40
      },
      "kernels_config": {
        "python": {
          "delete_cmd_postfix": "",
          "delete_cmd_prefix": "del ",
          "library": "var_list.py",
          "varRefreshCmd": "print(var_dic_list())"
        },
        "r": {
          "delete_cmd_postfix": ") ",
          "delete_cmd_prefix": "rm(",
          "library": "var_list.r",
          "varRefreshCmd": "cat(var_dic_list()) "
        }
      },
      "types_to_exclude": [
        "module",
        "function",
        "builtin_function_or_method",
        "instance",
        "_Feature"
      ],
      "window_display": false
    },
    "colab": {
      "name": "problem_0303.ipynb",
      "provenance": []
    }
  },
  "cells": [
    {
      "cell_type": "markdown",
      "metadata": {
        "id": "f3NEV4GJAsfH"
      },
      "source": [
        "## Quiz #0303"
      ]
    },
    {
      "cell_type": "markdown",
      "metadata": {
        "id": "jA29dqTYAsfI"
      },
      "source": [
        "### \"Ball bearing quality control\""
      ]
    },
    {
      "cell_type": "code",
      "metadata": {
        "id": "UdQVZIgtAsfJ"
      },
      "source": [
        "import numpy as np\n",
        "import scipy.stats as st"
      ],
      "execution_count": 12,
      "outputs": []
    },
    {
      "cell_type": "markdown",
      "metadata": {
        "id": "Wi64q0n3AsfK"
      },
      "source": [
        "#### Answer the following questions by providing Python code:"
      ]
    },
    {
      "cell_type": "markdown",
      "metadata": {
        "id": "0WpQBa_oAsfL"
      },
      "source": [
        "It is known that 3% of the ball bearings from a production line are defective. <br>\n",
        "Suppose that a sample of 500 ball bearings is drawn."
      ]
    },
    {
      "cell_type": "code",
      "metadata": {
        "id": "r6v-bc2qAsfL"
      },
      "source": [
        "p = 0.03\n",
        "n = 500"
      ],
      "execution_count": 13,
      "outputs": []
    },
    {
      "cell_type": "code",
      "metadata": {
        "colab": {
          "base_uri": "https://localhost:8080/"
        },
        "id": "iSUyKuyXAsfM",
        "outputId": "f725ecf9-dfee-49c8-a38e-f4fd01958b84"
      },
      "source": [
        "print(n*p)                               # Check wheather this is larger than 10. => OK\n",
        "print(n*(1-p))                           # Check wheather this is larger than 10. => OK"
      ],
      "execution_count": 14,
      "outputs": [
        {
          "output_type": "stream",
          "text": [
            "15.0\n",
            "485.0\n"
          ],
          "name": "stdout"
        }
      ]
    },
    {
      "cell_type": "markdown",
      "metadata": {
        "id": "YSrirTr2AsfN"
      },
      "source": [
        "1). What is the probability that the sample defect rate is larger than 5%? <br>\n",
        "HINT: Use sample proportion and Standard Normal distribution."
      ]
    },
    {
      "cell_type": "code",
      "metadata": {
        "colab": {
          "base_uri": "https://localhost:8080/"
        },
        "id": "sA0zxCwFAsfO",
        "outputId": "e66ad51d-aa4f-474a-b0dc-80570a2ebf0e"
      },
      "source": [
        "se =np.sqrt( p*(1-p)/n)\n",
        "z = (0.05-p)/se\n",
        "1- st.norm.cdf(z)"
      ],
      "execution_count": 15,
      "outputs": [
        {
          "output_type": "execute_result",
          "data": {
            "text/plain": [
              "0.004375743328279169"
            ]
          },
          "metadata": {
            "tags": []
          },
          "execution_count": 15
        }
      ]
    },
    {
      "cell_type": "markdown",
      "metadata": {
        "id": "9hRBqIaXAsfP"
      },
      "source": [
        "2). What is the probability that the sample defect rate is less than 2%? <br>\n",
        "HINT: Use sample proportion and Standard Normal distribution."
      ]
    },
    {
      "cell_type": "code",
      "metadata": {
        "colab": {
          "base_uri": "https://localhost:8080/"
        },
        "id": "mEsGac_wAsfQ",
        "outputId": "701491ce-7263-406e-bbb4-3030d594e081"
      },
      "source": [
        "std_error = np.sqrt(p*(1-p)/n)\n",
        "z = (0.02 - p)/std_error\n",
        "st.norm.cdf(z)"
      ],
      "execution_count": 16,
      "outputs": [
        {
          "output_type": "execute_result",
          "data": {
            "text/plain": [
              "0.09496161307581885"
            ]
          },
          "metadata": {
            "tags": []
          },
          "execution_count": 16
        }
      ]
    },
    {
      "cell_type": "markdown",
      "metadata": {
        "id": "GU-zw-w1AsfQ"
      },
      "source": [
        "3). Redo the calculations of 1) and 2) using the Binomial distribution. Then, compare."
      ]
    },
    {
      "cell_type": "code",
      "metadata": {
        "colab": {
          "base_uri": "https://localhost:8080/"
        },
        "id": "-g8WkeRCAsfR",
        "outputId": "7456e36c-df63-43b7-f24d-5978ba477fbc"
      },
      "source": [
        "# Redo of 1).\n",
        "1-st.binom.cdf(0.05*n,n,p)"
      ],
      "execution_count": 17,
      "outputs": [
        {
          "output_type": "execute_result",
          "data": {
            "text/plain": [
              "0.005456997386145246"
            ]
          },
          "metadata": {
            "tags": []
          },
          "execution_count": 17
        }
      ]
    },
    {
      "cell_type": "code",
      "metadata": {
        "colab": {
          "base_uri": "https://localhost:8080/"
        },
        "id": "dvcpWbKuAsfR",
        "outputId": "a09667a9-8734-42b7-8b2c-773ac8935ebf"
      },
      "source": [
        "# Redo of 2).\n",
        "st.binom.cdf(0.02*n,n,p)"
      ],
      "execution_count": 18,
      "outputs": [
        {
          "output_type": "execute_result",
          "data": {
            "text/plain": [
              "0.11478748420385211"
            ]
          },
          "metadata": {
            "tags": []
          },
          "execution_count": 18
        }
      ]
    },
    {
      "cell_type": "code",
      "metadata": {
        "id": "iafUA8qbDN5v"
      },
      "source": [
        "# we notice that the results we get using Binomial distribution are a litlle bit bigger than the results we got using sample proportion \n",
        "# and Standard Normal distribution"
      ],
      "execution_count": 19,
      "outputs": []
    }
  ]
}