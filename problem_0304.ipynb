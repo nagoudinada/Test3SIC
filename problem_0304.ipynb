{
  "nbformat": 4,
  "nbformat_minor": 0,
  "metadata": {
    "kernelspec": {
      "display_name": "Python 3",
      "language": "python",
      "name": "python3"
    },
    "language_info": {
      "codemirror_mode": {
        "name": "ipython",
        "version": 3
      },
      "file_extension": ".py",
      "mimetype": "text/x-python",
      "name": "python",
      "nbconvert_exporter": "python",
      "pygments_lexer": "ipython3",
      "version": "3.7.0"
    },
    "toc": {
      "base_numbering": 1,
      "nav_menu": {},
      "number_sections": true,
      "sideBar": true,
      "skip_h1_title": false,
      "title_cell": "Table of Contents",
      "title_sidebar": "Contents",
      "toc_cell": false,
      "toc_position": {},
      "toc_section_display": true,
      "toc_window_display": false
    },
    "varInspector": {
      "cols": {
        "lenName": 16,
        "lenType": 16,
        "lenVar": 40
      },
      "kernels_config": {
        "python": {
          "delete_cmd_postfix": "",
          "delete_cmd_prefix": "del ",
          "library": "var_list.py",
          "varRefreshCmd": "print(var_dic_list())"
        },
        "r": {
          "delete_cmd_postfix": ") ",
          "delete_cmd_prefix": "rm(",
          "library": "var_list.r",
          "varRefreshCmd": "cat(var_dic_list()) "
        }
      },
      "types_to_exclude": [
        "module",
        "function",
        "builtin_function_or_method",
        "instance",
        "_Feature"
      ],
      "window_display": false
    },
    "colab": {
      "name": "problem_0304.ipynb",
      "provenance": []
    }
  },
  "cells": [
    {
      "cell_type": "markdown",
      "metadata": {
        "id": "w1VynIdFDnNB"
      },
      "source": [
        "## Coding Problem #0304"
      ]
    },
    {
      "cell_type": "markdown",
      "metadata": {
        "id": "Utn3bHyFDnNC"
      },
      "source": [
        "### \"Policy support rate\""
      ]
    },
    {
      "cell_type": "code",
      "metadata": {
        "id": "5N6Q7--GDnND"
      },
      "source": [
        "import numpy as np\n",
        "import scipy.stats as st"
      ],
      "execution_count": 59,
      "outputs": []
    },
    {
      "cell_type": "markdown",
      "metadata": {
        "id": "ddwqUYvPDnNE"
      },
      "source": [
        "#### Answer the following questions by providing Python code:"
      ]
    },
    {
      "cell_type": "markdown",
      "metadata": {
        "id": "XJF3WZd5DnNE"
      },
      "source": [
        "It is known that the overall policy support rate is 52%. <br>"
      ]
    },
    {
      "cell_type": "code",
      "metadata": {
        "id": "jTyV1QnYDnNF"
      },
      "source": [
        "p = 0.52"
      ],
      "execution_count": 60,
      "outputs": []
    },
    {
      "cell_type": "markdown",
      "metadata": {
        "id": "PEK2_IT3DnNF"
      },
      "source": [
        "1). What is the probability of support rate less than 50% when asked to 100 people? <br>\n",
        "HINT: Use sample proportion and Standard Normal distribution."
      ]
    },
    {
      "cell_type": "code",
      "metadata": {
        "colab": {
          "base_uri": "https://localhost:8080/"
        },
        "id": "XphkVBqaDnNF",
        "outputId": "2d85ecbb-c17a-49bb-f66e-5cd571f164c8"
      },
      "source": [
        "n=100\n",
        "std_error = np.sqrt(p*(1-p)/n)\n",
        "z = (0.5 - p)/std_error\n",
        "st.norm.cdf(z)"
      ],
      "execution_count": 61,
      "outputs": [
        {
          "output_type": "execute_result",
          "data": {
            "text/plain": [
              "0.3444602779022302"
            ]
          },
          "metadata": {
            "tags": []
          },
          "execution_count": 61
        }
      ]
    },
    {
      "cell_type": "markdown",
      "metadata": {
        "id": "LkBtbeUQDnNG"
      },
      "source": [
        "2). What is the probability of support rate less than 50% when asked to 300 people? <br>\n",
        "HINT: Use sample proportion and Standard Normal distribution."
      ]
    },
    {
      "cell_type": "code",
      "metadata": {
        "colab": {
          "base_uri": "https://localhost:8080/"
        },
        "id": "df7yf58xDnNG",
        "outputId": "e7354f9d-501a-467d-9414-36928bc2eac1"
      },
      "source": [
        "n=300\n",
        "std_error = np.sqrt(p*(1-p)/n)\n",
        "z = (0.5 - p)/std_error\n",
        "st.norm.cdf(z)"
      ],
      "execution_count": 62,
      "outputs": [
        {
          "output_type": "execute_result",
          "data": {
            "text/plain": [
              "0.24403704658262387"
            ]
          },
          "metadata": {
            "tags": []
          },
          "execution_count": 62
        }
      ]
    },
    {
      "cell_type": "markdown",
      "metadata": {
        "id": "Hrz-kziUDnNH"
      },
      "source": [
        "3). Redo the calculations of 1) and 2) using the Binomial distribution. Then, compare."
      ]
    },
    {
      "cell_type": "code",
      "metadata": {
        "colab": {
          "base_uri": "https://localhost:8080/"
        },
        "id": "XRjhMVX3DnNH",
        "outputId": "7abc2193-1dfa-451c-958a-a7316377c3d2"
      },
      "source": [
        "# Redo of 1).\n",
        "n=100\n",
        "st.binom.cdf(0.5*n,n,p)"
      ],
      "execution_count": 63,
      "outputs": [
        {
          "output_type": "execute_result",
          "data": {
            "text/plain": [
              "0.3816199474102779"
            ]
          },
          "metadata": {
            "tags": []
          },
          "execution_count": 63
        }
      ]
    },
    {
      "cell_type": "code",
      "metadata": {
        "colab": {
          "base_uri": "https://localhost:8080/"
        },
        "id": "TPFDcl20DnNH",
        "outputId": "194928f6-449b-47fc-8209-bc15ef275d1d"
      },
      "source": [
        "# Redo of 2).\n",
        "n=300\n",
        "st.binom.cdf(0.5*n,n,p)"
      ],
      "execution_count": 64,
      "outputs": [
        {
          "output_type": "execute_result",
          "data": {
            "text/plain": [
              "0.2624050639758823"
            ]
          },
          "metadata": {
            "tags": []
          },
          "execution_count": 64
        }
      ]
    },
    {
      "cell_type": "code",
      "metadata": {
        "id": "yfrkST8DGhN9"
      },
      "source": [
        "# we notice that the results we get using Binomial distribution are a litlle bit bigger than the results we got using sample proportion \n",
        "# and Standard Normal distribution"
      ],
      "execution_count": 65,
      "outputs": []
    },
    {
      "cell_type": "markdown",
      "metadata": {
        "id": "ixk7G6mhDnNH"
      },
      "source": [
        "4). Redo the calculations of 1) and 2) using the Poisson distribution. Then, compare."
      ]
    },
    {
      "cell_type": "code",
      "metadata": {
        "colab": {
          "base_uri": "https://localhost:8080/"
        },
        "id": "PVJwAUWvDnNK",
        "outputId": "c301da44-1773-468c-a6d3-5f21556a427e"
      },
      "source": [
        "# Redo of 1).\n",
        "n1=100\n",
        "lam= n1 * p\n",
        "r = 0.5 * n1\n",
        "st.poisson.cdf(r,lam)\n",
        "#st.poisson.cdf(k, mu, loc=0)"
      ],
      "execution_count": 67,
      "outputs": [
        {
          "output_type": "execute_result",
          "data": {
            "text/plain": [
              "0.42632224798181584"
            ]
          },
          "metadata": {
            "tags": []
          },
          "execution_count": 67
        }
      ]
    },
    {
      "cell_type": "code",
      "metadata": {
        "colab": {
          "base_uri": "https://localhost:8080/"
        },
        "id": "Rab-sylODnNK",
        "outputId": "46fb651e-2a13-4e80-d246-2e1a832411bc"
      },
      "source": [
        "# Redo of 2).\n",
        "n2=300\n",
        "lamb =n2*p\n",
        "r = 0.5*n2\n",
        "st.poisson.pmf(r,lamb)"
      ],
      "execution_count": 68,
      "outputs": [
        {
          "output_type": "execute_result",
          "data": {
            "text/plain": [
              "0.028963908400405483"
            ]
          },
          "metadata": {
            "tags": []
          },
          "execution_count": 68
        }
      ]
    },
    {
      "cell_type": "code",
      "metadata": {
        "id": "nAjC5bpqDnNL"
      },
      "source": [
        "# we notice that the results we get using poisson distribution are so small ~ 0 so we can say :\n",
        "# results (Binomial distribution) > results (sample proportion & Standard Normal distribution) > results (Poisson distribution)"
      ],
      "execution_count": 69,
      "outputs": []
    }
  ]
}