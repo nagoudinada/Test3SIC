{
  "nbformat": 4,
  "nbformat_minor": 0,
  "metadata": {
    "kernelspec": {
      "display_name": "Python 3",
      "language": "python",
      "name": "python3"
    },
    "language_info": {
      "codemirror_mode": {
        "name": "ipython",
        "version": 3
      },
      "file_extension": ".py",
      "mimetype": "text/x-python",
      "name": "python",
      "nbconvert_exporter": "python",
      "pygments_lexer": "ipython3",
      "version": "3.7.0"
    },
    "toc": {
      "base_numbering": 1,
      "nav_menu": {},
      "number_sections": true,
      "sideBar": true,
      "skip_h1_title": false,
      "title_cell": "Table of Contents",
      "title_sidebar": "Contents",
      "toc_cell": false,
      "toc_position": {},
      "toc_section_display": true,
      "toc_window_display": false
    },
    "varInspector": {
      "cols": {
        "lenName": 16,
        "lenType": 16,
        "lenVar": 40
      },
      "kernels_config": {
        "python": {
          "delete_cmd_postfix": "",
          "delete_cmd_prefix": "del ",
          "library": "var_list.py",
          "varRefreshCmd": "print(var_dic_list())"
        },
        "r": {
          "delete_cmd_postfix": ") ",
          "delete_cmd_prefix": "rm(",
          "library": "var_list.r",
          "varRefreshCmd": "cat(var_dic_list()) "
        }
      },
      "types_to_exclude": [
        "module",
        "function",
        "builtin_function_or_method",
        "instance",
        "_Feature"
      ],
      "window_display": false
    },
    "colab": {
      "name": "problem_0305.ipynb",
      "provenance": []
    }
  },
  "cells": [
    {
      "cell_type": "markdown",
      "metadata": {
        "id": "OReJmPAZJJys"
      },
      "source": [
        "## Quiz #0305"
      ]
    },
    {
      "cell_type": "markdown",
      "metadata": {
        "id": "tUimBCiJJJyt"
      },
      "source": [
        "### \"Correlation and interval estimation\""
      ]
    },
    {
      "cell_type": "code",
      "metadata": {
        "id": "Il-GXgeyJJyu"
      },
      "source": [
        "import numpy as np\n",
        "import scipy.stats as st"
      ],
      "execution_count": 23,
      "outputs": []
    },
    {
      "cell_type": "markdown",
      "metadata": {
        "id": "xyxCSdVmJJyv"
      },
      "source": [
        "#### Answer the following questions by providing Python code:"
      ]
    },
    {
      "cell_type": "markdown",
      "metadata": {
        "id": "9jhK5YHmJJyw"
      },
      "source": [
        "Calculate the 95% and 99% conficence intervals for the Pearson correlation. <br>\n",
        "Discuss whether the confidence interval includes zero or not."
      ]
    },
    {
      "cell_type": "markdown",
      "metadata": {
        "id": "3Ssra5p5JJyy"
      },
      "source": [
        "1). When the sample size $n = 30$ and the sample correlation $r = 0.45$:"
      ]
    },
    {
      "cell_type": "code",
      "metadata": {
        "id": "HOu2HqI3JJyz"
      },
      "source": [
        "r=0.45\n",
        "n=30\n",
        "z = np.arctanh(r)\n",
        "std_error_z = 1/np.sqrt(n-3)"
      ],
      "execution_count": 24,
      "outputs": []
    },
    {
      "cell_type": "code",
      "metadata": {
        "colab": {
          "base_uri": "https://localhost:8080/"
        },
        "id": "70bZ31G6JJzw",
        "outputId": "f92d299b-eeee-4a34-b7d9-d2328384ea6c"
      },
      "source": [
        "# 95% confidence interval. \n",
        "\n",
        "print('low=' , np.tanh(z-st.norm.ppf(0.975)*std_error_z) , 'high=' , np.tanh(z+st.norm.ppf(0.975)*std_error_z))"
      ],
      "execution_count": 25,
      "outputs": [
        {
          "output_type": "stream",
          "text": [
            "low= 0.10709278247377604 high= 0.6972330057657297\n"
          ],
          "name": "stdout"
        }
      ]
    },
    {
      "cell_type": "code",
      "metadata": {
        "colab": {
          "base_uri": "https://localhost:8080/"
        },
        "id": "JuQTTH-7JJzy",
        "outputId": "e1004deb-3e26-4d32-8030-5b26227f875c"
      },
      "source": [
        "# 99% confidence interval. \n",
        "\n",
        "print('low=' , np.tanh(z-st.norm.ppf(0.995)*std_error_z) , 'high=' , np.tanh(z+st.norm.ppf(0.995)*std_error_z))"
      ],
      "execution_count": 26,
      "outputs": [
        {
          "output_type": "stream",
          "text": [
            "low= -0.011017856139532253 high= 0.7532471683684436\n"
          ],
          "name": "stdout"
        }
      ]
    },
    {
      "cell_type": "markdown",
      "metadata": {
        "id": "XXe5qj5hJJzz"
      },
      "source": [
        "2). When the sample size $n = 300$ and the sample correlation $r = -0.2$:"
      ]
    },
    {
      "cell_type": "code",
      "metadata": {
        "id": "CylGYHMdJJz0"
      },
      "source": [
        "r=-0.2\n",
        "n=300\n",
        "z = np.arctanh(r)\n",
        "std_error_z = 1/np.sqrt(n-3)"
      ],
      "execution_count": 27,
      "outputs": []
    },
    {
      "cell_type": "code",
      "metadata": {
        "colab": {
          "base_uri": "https://localhost:8080/"
        },
        "id": "lArV-JFBJJz1",
        "outputId": "26dd684f-0d7f-4a69-aa53-b8d281cbe193"
      },
      "source": [
        "# 95% confidence interval. \n",
        "\n",
        "print('low=' , np.tanh(z-st.norm.ppf(0.975)*std_error_z) , 'high=' , np.tanh(z+st.norm.ppf(0.975)*std_error_z))"
      ],
      "execution_count": 28,
      "outputs": [
        {
          "output_type": "stream",
          "text": [
            "low= -0.3063036232659099 high= -0.08876963035471497\n"
          ],
          "name": "stdout"
        }
      ]
    },
    {
      "cell_type": "code",
      "metadata": {
        "colab": {
          "base_uri": "https://localhost:8080/"
        },
        "id": "9CVBKwKlJJz1",
        "outputId": "ab4ca6b0-2950-41a5-dddb-4e5ebe10e209"
      },
      "source": [
        "# 99% confidence interval. \n",
        "\n",
        "print('low=' , np.tanh(z-st.norm.ppf(0.995)*std_error_z) , 'high=' , np.tanh(z+st.norm.ppf(0.995)*std_error_z))"
      ],
      "execution_count": 29,
      "outputs": [
        {
          "output_type": "stream",
          "text": [
            "low= -0.3383228071595094 high= -0.05321745374020949\n"
          ],
          "name": "stdout"
        }
      ]
    }
  ]
}